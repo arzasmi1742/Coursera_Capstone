{
 "cells": [
  {
   "cell_type": "markdown",
   "metadata": {},
   "source": [
    "## Introduction/Business Problem"
   ]
  },
  {
   "cell_type": "markdown",
   "metadata": {},
   "source": [
    "### Background"
   ]
  },
  {
   "cell_type": "markdown",
   "metadata": {},
   "source": [
    "A recent U.S. Census Bureau report about NYC revealed an increasingly diverse and dynamic city with immigrants making up the majority of the residents in some neighborhoods. All five boroughs illustrate this melting pot of cultures, as evident by the ability to partake in exotic cuisine from all over the world. Its ethnic and cultural diversity and vibrant mix of world influences might be one reason why NYC attracts millions of visitors each year. This presents a unique opportunity to capitalize on tourism and the local economy to establish a profitable business in one of the five boroughs. But which and what kind of restaurant?"
   ]
  },
  {
   "cell_type": "markdown",
   "metadata": {},
   "source": [
    "### Problem"
   ]
  },
  {
   "cell_type": "markdown",
   "metadata": {},
   "source": [
    "NYC is one of the most densely populated cities on the planet, so it shouldn't be hard to open a successful business, right? Well, according to the Bureau of Labor Statistics, approximately 90% of new business __FAIL__ their first year. Considering the stiff competition and the price of doing business in NYC, any new business venture needs to be analyzed carefully. The insights derived from analysis will give good understanding of the business environment, which will help in strategically targeting the market. In our case, we will try to determine the best type of business to open (e.g.: coffee shop, restaurant, brewery, etc) and in which borough, or abandon the project altogether."
   ]
  },
  {
   "cell_type": "markdown",
   "metadata": {},
   "source": [
    "## Data"
   ]
  },
  {
   "cell_type": "markdown",
   "metadata": {},
   "source": [
    "In order to determine the best location for the business, the data scientist use the Foursquare API to explore neighborhoods in New York City in order to explore and get the most common venue categories in each neighborhood, and then use this feature to group the neighborhoods into clusters, and use the Folium library to visualize the neighborhoods in New York City and their emerging clusters. In order to do so, the following steps should be taken:\n",
    "\n",
    "    1.) Download and Explore Dataset (Source: https://geo.nyu.edu/catalog/nyu_2451_34572)\n",
    "    2.) Explore Neighborhoods in New York City (Source: Foursquare API)\n",
    "    3.) Analyze Each Neighborhood\n",
    "    4.) Cluster Neighborhoods (Source: https://data.cityofnewyork.us/City-Government/BoroughBoundaries/tqmj-j8zm)\n",
    "    5.) Examine Clusters\n",
    "    6.) Determine whether or not to open a business in NYC; if so, determine location and type of business"
   ]
  }
 ],
 "metadata": {
  "kernelspec": {
   "display_name": "Python",
   "language": "python",
   "name": "conda-env-python-py"
  },
  "language_info": {
   "codemirror_mode": {
    "name": "ipython",
    "version": 3
   },
   "file_extension": ".py",
   "mimetype": "text/x-python",
   "name": "python",
   "nbconvert_exporter": "python",
   "pygments_lexer": "ipython3",
   "version": "3.6.10"
  }
 },
 "nbformat": 4,
 "nbformat_minor": 4
}
