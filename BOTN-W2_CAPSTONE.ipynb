{
 "cells": [
  {
   "cell_type": "markdown",
   "metadata": {},
   "source": [
    "## Introduction/Problem"
   ]
  },
  {
   "cell_type": "markdown",
   "metadata": {},
   "source": [
    "### Target Audience"
   ]
  },
  {
   "cell_type": "markdown",
   "metadata": {},
   "source": [
    "Ronnie Gulliver is a multi-millionaire, international playboy, philanthropist, bodybuilder, two-time kite-surfing champion, and CEO of Gulliver Investment INC. He's looking to break up the monotony of the day-to-day and has decided to start fighting crime. He's decided that there's no better place to start than The Big Apple NEW YORK CITY!"
   ]
  },
  {
   "cell_type": "markdown",
   "metadata": {},
   "source": [
    "### Background"
   ]
  },
  {
   "cell_type": "markdown",
   "metadata": {},
   "source": [
    "I was recently picked up for a data science internship at Gulliver Investments INC and was selected to serve as Mr. Gulliver's personal data scientist. He told me that I have \"a trustful face\" _(whatever that means)_ and let me know about his plans to save NEW YORK CITY as... GULLMAN!!!! He showed me the costume and ran his plan down.\n",
    "\n",
    "According to the FBI, crime rates in major cities within the United States have been increasing exponentially. While the violent crime rate average for the country was around 200 per 100,000 inhabitants in 1997, today the number sits in the high 700s. However, there are still some cities who face a higher than average crime rate - notably NEW YORK CITY!\n",
    "\n",
    "Most sociologists view crime is a social problem, with many of the motivations between crimes committed can include things such as lack of police funding, issues with armed robberies, gang-related violence and more. But not in NEW YORK CITY! Crooked cops, corrupt politicians, gangs of themed thugs roaming the streets -- these are a constant problem in NEW YORK CITY! Well... not anymore! GULLMAN is ready to crack some skulls and stop crime through vigilante justice!"
   ]
  },
  {
   "cell_type": "markdown",
   "metadata": {},
   "source": [
    "### Problem"
   ]
  },
  {
   "cell_type": "markdown",
   "metadata": {},
   "source": [
    "GULLMAN doesn't want to start from the bottom. He wants to start in the most crime-ridden part of NEW YORK CITY. My job is to figure out where that is, so that GULLMAN can get to work."
   ]
  },
  {
   "cell_type": "markdown",
   "metadata": {},
   "source": [
    "## Data and Methodology"
   ]
  },
  {
   "cell_type": "markdown",
   "metadata": {},
   "source": [
    "In order to determine the best location for GULLMAN to start fighting crime, I need to examine criminal statistics for NEW YORK CITY and explore neighborhoods to find the locations where crime is most prevalent. In order to do so, the following steps will be taken:\n",
    "\n",
    "1.) Download and Explore Criminal Dataset for NYC (Source: https://data.cityofnewyork.us/resource/5uac-w243.json)\n",
    "\n",
    "2.) Analyze the data by comparing crime statistics based on Borough, Precinct, Offense, and Locations using Matplotlib to graphically represent the data for easy consumption.\n",
    "\n",
    "3.) Map out the area using Folium, so that GULLMAN can get started."
   ]
  },
  {
   "cell_type": "markdown",
   "metadata": {},
   "source": [
    "# Download and Explore the Datasets\n",
    "\n",
    "### Download all the required dependencies in order to effectively analyze the information."
   ]
  },
  {
   "cell_type": "code",
   "execution_count": 2,
   "metadata": {
    "collapsed": true,
    "jupyter": {
     "outputs_hidden": true
    }
   },
   "outputs": [
    {
     "name": "stdout",
     "output_type": "stream",
     "text": [
      "Collecting package metadata (current_repodata.json): done\n",
      "Solving environment: done\n",
      "\n",
      "## Package Plan ##\n",
      "\n",
      "  environment location: /home/jupyterlab/conda/envs/python\n",
      "\n",
      "  added / updated specs:\n",
      "    - geopy\n",
      "\n",
      "\n",
      "The following packages will be UPDATED:\n",
      "\n",
      "  ca-certificates      anaconda::ca-certificates-2020.1.1-0 --> conda-forge::ca-certificates-2020.4.5.1-hecc5488_0\n",
      "\n",
      "The following packages will be SUPERSEDED by a higher-priority channel:\n",
      "\n",
      "  certifi               anaconda::certifi-2020.4.5.1-py36_0 --> conda-forge::certifi-2020.4.5.1-py36h9f0ad1d_0\n",
      "  openssl               anaconda::openssl-1.1.1g-h7b6447c_0 --> conda-forge::openssl-1.1.1g-h516909a_0\n",
      "\n",
      "\n",
      "Preparing transaction: done\n",
      "Verifying transaction: done\n",
      "Executing transaction: done\n",
      "Requirement already satisfied: beautifulsoup4 in /home/jupyterlab/conda/envs/python/lib/python3.6/site-packages (4.9.0)\n",
      "Requirement already satisfied: soupsieve>1.2 in /home/jupyterlab/conda/envs/python/lib/python3.6/site-packages (from beautifulsoup4) (2.0)\n",
      "Collecting package metadata (current_repodata.json): done\n",
      "Solving environment: done\n",
      "\n",
      "## Package Plan ##\n",
      "\n",
      "  environment location: /home/jupyterlab/conda/envs/python\n",
      "\n",
      "  added / updated specs:\n",
      "    - lxml\n",
      "\n",
      "\n",
      "The following packages will be SUPERSEDED by a higher-priority channel:\n",
      "\n",
      "  ca-certificates    conda-forge::ca-certificates-2020.4.5~ --> anaconda::ca-certificates-2020.1.1-0\n",
      "  certifi            conda-forge::certifi-2020.4.5.1-py36h~ --> anaconda::certifi-2020.4.5.1-py36_0\n",
      "  openssl            conda-forge::openssl-1.1.1g-h516909a_0 --> anaconda::openssl-1.1.1g-h7b6447c_0\n",
      "\n",
      "\n",
      "Preparing transaction: done\n",
      "Verifying transaction: done\n",
      "Executing transaction: done\n",
      "Libraries imported.\n"
     ]
    }
   ],
   "source": [
    "### I need to get all the required dependencies to make sure everything works\n",
    "\n",
    "import numpy as np # library to handle data in a vectorized manner\n",
    "\n",
    "import pandas as pd # library for data analysis\n",
    "pd.set_option('display.max_columns', None)\n",
    "pd.set_option('display.max_rows', None)\n",
    "\n",
    "import json # library to handle JSON files\n",
    "\n",
    "!conda install -c conda-forge geopy --yes # uncomment this line if you haven't completed the Foursquare API lab\n",
    "from geopy.geocoders import Nominatim # convert an address into latitude and longitude values\n",
    "\n",
    "import requests # library to handle requests\n",
    "from pandas.io.json import json_normalize # tranform JSON file into a pandas dataframe\n",
    "\n",
    "# Matplotlib and associated plotting modules\n",
    "import matplotlib.cm as cm\n",
    "import matplotlib.colors as colors\n",
    "import matplotlib.pyplot as plt\n",
    "\n",
    "# Seaborn because why not?\n",
    "import seaborn as sns\n",
    "\n",
    "# import k-means from clustering stage\n",
    "from sklearn.cluster import KMeans\n",
    "\n",
    "#!conda install -c conda-forge folium=0.5.0 --yes # uncomment this line if you haven't completed the Foursquare API lab\n",
    "import folium # map rendering library\n",
    "\n",
    "# install BS4\n",
    "!pip install beautifulsoup4\n",
    "!conda install -c anaconda lxml --yes\n",
    "\n",
    "from bs4 import BeautifulSoup # package for parsing HTML and XML documents\n",
    "import csv # implements classes to read and write tabular data in CSV form\n",
    "\n",
    "print('Libraries imported.')"
   ]
  },
  {
   "cell_type": "markdown",
   "metadata": {},
   "source": [
    "### __NEW YORK CITY Crime Statistics__\n",
    "In order to find the data I need, I have to use the GULLMAN __CRIMEPUTER__ to hack the NYPD Database. From there, I can gather the dataset and create a DF to work from."
   ]
  },
  {
   "cell_type": "code",
   "execution_count": 3,
   "metadata": {},
   "outputs": [
    {
     "data": {
      "text/html": [
       "<div>\n",
       "<style scoped>\n",
       "    .dataframe tbody tr th:only-of-type {\n",
       "        vertical-align: middle;\n",
       "    }\n",
       "\n",
       "    .dataframe tbody tr th {\n",
       "        vertical-align: top;\n",
       "    }\n",
       "\n",
       "    .dataframe thead th {\n",
       "        text-align: right;\n",
       "    }\n",
       "</style>\n",
       "<table border=\"1\" class=\"dataframe\">\n",
       "  <thead>\n",
       "    <tr style=\"text-align: right;\">\n",
       "      <th></th>\n",
       "      <th>CMPLNT_NUM</th>\n",
       "      <th>ADDR_PCT_CD</th>\n",
       "      <th>BORO_NM</th>\n",
       "      <th>CMPLNT_FR_DT</th>\n",
       "      <th>CMPLNT_FR_TM</th>\n",
       "      <th>CMPLNT_TO_DT</th>\n",
       "      <th>CMPLNT_TO_TM</th>\n",
       "      <th>CRM_ATPT_CPTD_CD</th>\n",
       "      <th>HADEVELOPT</th>\n",
       "      <th>HOUSING_PSA</th>\n",
       "      <th>JURISDICTION_CODE</th>\n",
       "      <th>JURIS_DESC</th>\n",
       "      <th>KY_CD</th>\n",
       "      <th>LAW_CAT_CD</th>\n",
       "      <th>LOC_OF_OCCUR_DESC</th>\n",
       "      <th>OFNS_DESC</th>\n",
       "      <th>PARKS_NM</th>\n",
       "      <th>PATROL_BORO</th>\n",
       "      <th>PD_CD</th>\n",
       "      <th>PD_DESC</th>\n",
       "      <th>PREM_TYP_DESC</th>\n",
       "      <th>RPT_DT</th>\n",
       "      <th>STATION_NAME</th>\n",
       "      <th>SUSP_AGE_GROUP</th>\n",
       "      <th>SUSP_RACE</th>\n",
       "      <th>SUSP_SEX</th>\n",
       "      <th>TRANSIT_DISTRICT</th>\n",
       "      <th>VIC_AGE_GROUP</th>\n",
       "      <th>VIC_RACE</th>\n",
       "      <th>VIC_SEX</th>\n",
       "      <th>X_COORD_CD</th>\n",
       "      <th>Y_COORD_CD</th>\n",
       "      <th>Latitude</th>\n",
       "      <th>Longitude</th>\n",
       "      <th>Lat_Lon</th>\n",
       "    </tr>\n",
       "  </thead>\n",
       "  <tbody>\n",
       "    <tr>\n",
       "      <th>0</th>\n",
       "      <td>466502077</td>\n",
       "      <td>75</td>\n",
       "      <td>BROOKLYN</td>\n",
       "      <td>03/30/2020</td>\n",
       "      <td>17:30:00</td>\n",
       "      <td>03/31/2020</td>\n",
       "      <td>06:53:00</td>\n",
       "      <td>COMPLETED</td>\n",
       "      <td>NaN</td>\n",
       "      <td>NaN</td>\n",
       "      <td>0.0</td>\n",
       "      <td>N.Y. POLICE DEPT</td>\n",
       "      <td>341</td>\n",
       "      <td>MISDEMEANOR</td>\n",
       "      <td>OPPOSITE OF</td>\n",
       "      <td>PETIT LARCENY</td>\n",
       "      <td>NaN</td>\n",
       "      <td>PATROL BORO BKLYN NORTH</td>\n",
       "      <td>321.0</td>\n",
       "      <td>LARCENY,PETIT FROM AUTO</td>\n",
       "      <td>STREET</td>\n",
       "      <td>03/31/2020</td>\n",
       "      <td>NaN</td>\n",
       "      <td>NaN</td>\n",
       "      <td>NaN</td>\n",
       "      <td>NaN</td>\n",
       "      <td>NaN</td>\n",
       "      <td>25-44</td>\n",
       "      <td>BLACK</td>\n",
       "      <td>M</td>\n",
       "      <td>1018496</td>\n",
       "      <td>178657</td>\n",
       "      <td>40.656991</td>\n",
       "      <td>-73.876574</td>\n",
       "      <td>(40.65699087900003, -73.87657444799999)</td>\n",
       "    </tr>\n",
       "    <tr>\n",
       "      <th>1</th>\n",
       "      <td>303191835</td>\n",
       "      <td>77</td>\n",
       "      <td>BROOKLYN</td>\n",
       "      <td>03/28/2020</td>\n",
       "      <td>19:30:00</td>\n",
       "      <td>03/28/2020</td>\n",
       "      <td>20:30:00</td>\n",
       "      <td>COMPLETED</td>\n",
       "      <td>NaN</td>\n",
       "      <td>NaN</td>\n",
       "      <td>0.0</td>\n",
       "      <td>N.Y. POLICE DEPT</td>\n",
       "      <td>104</td>\n",
       "      <td>FELONY</td>\n",
       "      <td>OPPOSITE OF</td>\n",
       "      <td>RAPE</td>\n",
       "      <td>NaN</td>\n",
       "      <td>PATROL BORO BKLYN NORTH</td>\n",
       "      <td>157.0</td>\n",
       "      <td>RAPE 1</td>\n",
       "      <td>STREET</td>\n",
       "      <td>03/30/2020</td>\n",
       "      <td>NaN</td>\n",
       "      <td>18-24</td>\n",
       "      <td>UNKNOWN</td>\n",
       "      <td>M</td>\n",
       "      <td>NaN</td>\n",
       "      <td>&lt;18</td>\n",
       "      <td>UNKNOWN</td>\n",
       "      <td>F</td>\n",
       "      <td>1003606</td>\n",
       "      <td>185050</td>\n",
       "      <td>40.674583</td>\n",
       "      <td>-73.930222</td>\n",
       "      <td>(40.67458330800008, -73.93022154099998)</td>\n",
       "    </tr>\n",
       "    <tr>\n",
       "      <th>2</th>\n",
       "      <td>735488557</td>\n",
       "      <td>43</td>\n",
       "      <td>BRONX</td>\n",
       "      <td>03/29/2020</td>\n",
       "      <td>14:10:00</td>\n",
       "      <td>NaN</td>\n",
       "      <td>NaN</td>\n",
       "      <td>COMPLETED</td>\n",
       "      <td>NaN</td>\n",
       "      <td>NaN</td>\n",
       "      <td>0.0</td>\n",
       "      <td>N.Y. POLICE DEPT</td>\n",
       "      <td>341</td>\n",
       "      <td>MISDEMEANOR</td>\n",
       "      <td>INSIDE</td>\n",
       "      <td>PETIT LARCENY</td>\n",
       "      <td>NaN</td>\n",
       "      <td>PATROL BORO BRONX</td>\n",
       "      <td>333.0</td>\n",
       "      <td>LARCENY,PETIT FROM STORE-SHOPL</td>\n",
       "      <td>DRUG STORE</td>\n",
       "      <td>03/29/2020</td>\n",
       "      <td>NaN</td>\n",
       "      <td>NaN</td>\n",
       "      <td>NaN</td>\n",
       "      <td>NaN</td>\n",
       "      <td>NaN</td>\n",
       "      <td>UNKNOWN</td>\n",
       "      <td>UNKNOWN</td>\n",
       "      <td>D</td>\n",
       "      <td>1019853</td>\n",
       "      <td>241853</td>\n",
       "      <td>40.830443</td>\n",
       "      <td>-73.871349</td>\n",
       "      <td>(40.83044253800006, -73.871349147)</td>\n",
       "    </tr>\n",
       "    <tr>\n",
       "      <th>3</th>\n",
       "      <td>315962428</td>\n",
       "      <td>40</td>\n",
       "      <td>BRONX</td>\n",
       "      <td>03/29/2020</td>\n",
       "      <td>07:10:00</td>\n",
       "      <td>03/29/2020</td>\n",
       "      <td>07:16:00</td>\n",
       "      <td>COMPLETED</td>\n",
       "      <td>NaN</td>\n",
       "      <td>NaN</td>\n",
       "      <td>0.0</td>\n",
       "      <td>N.Y. POLICE DEPT</td>\n",
       "      <td>341</td>\n",
       "      <td>MISDEMEANOR</td>\n",
       "      <td>INSIDE</td>\n",
       "      <td>PETIT LARCENY</td>\n",
       "      <td>NaN</td>\n",
       "      <td>PATROL BORO BRONX</td>\n",
       "      <td>333.0</td>\n",
       "      <td>LARCENY,PETIT FROM STORE-SHOPL</td>\n",
       "      <td>GROCERY/BODEGA</td>\n",
       "      <td>03/29/2020</td>\n",
       "      <td>NaN</td>\n",
       "      <td>UNKNOWN</td>\n",
       "      <td>BLACK</td>\n",
       "      <td>M</td>\n",
       "      <td>NaN</td>\n",
       "      <td>25-44</td>\n",
       "      <td>WHITE HISPANIC</td>\n",
       "      <td>F</td>\n",
       "      <td>1007236</td>\n",
       "      <td>237260</td>\n",
       "      <td>40.817878</td>\n",
       "      <td>-73.916957</td>\n",
       "      <td>(40.817877907000025, -73.91695668199996)</td>\n",
       "    </tr>\n",
       "    <tr>\n",
       "      <th>4</th>\n",
       "      <td>165437868</td>\n",
       "      <td>114</td>\n",
       "      <td>QUEENS</td>\n",
       "      <td>03/27/2020</td>\n",
       "      <td>13:15:00</td>\n",
       "      <td>03/27/2020</td>\n",
       "      <td>14:00:00</td>\n",
       "      <td>COMPLETED</td>\n",
       "      <td>NaN</td>\n",
       "      <td>NaN</td>\n",
       "      <td>0.0</td>\n",
       "      <td>N.Y. POLICE DEPT</td>\n",
       "      <td>344</td>\n",
       "      <td>MISDEMEANOR</td>\n",
       "      <td>INSIDE</td>\n",
       "      <td>ASSAULT 3 &amp; RELATED OFFENSES</td>\n",
       "      <td>NaN</td>\n",
       "      <td>PATROL BORO QUEENS NORTH</td>\n",
       "      <td>101.0</td>\n",
       "      <td>ASSAULT 3</td>\n",
       "      <td>OTHER</td>\n",
       "      <td>03/27/2020</td>\n",
       "      <td>NaN</td>\n",
       "      <td>NaN</td>\n",
       "      <td>NaN</td>\n",
       "      <td>NaN</td>\n",
       "      <td>NaN</td>\n",
       "      <td>45-64</td>\n",
       "      <td>BLACK</td>\n",
       "      <td>F</td>\n",
       "      <td>1002018</td>\n",
       "      <td>213258</td>\n",
       "      <td>40.752011</td>\n",
       "      <td>-73.935872</td>\n",
       "      <td>(40.75201086000004, -73.93587196099996)</td>\n",
       "    </tr>\n",
       "  </tbody>\n",
       "</table>\n",
       "</div>"
      ],
      "text/plain": [
       "   CMPLNT_NUM  ADDR_PCT_CD   BORO_NM CMPLNT_FR_DT CMPLNT_FR_TM CMPLNT_TO_DT  \\\n",
       "0   466502077           75  BROOKLYN   03/30/2020     17:30:00   03/31/2020   \n",
       "1   303191835           77  BROOKLYN   03/28/2020     19:30:00   03/28/2020   \n",
       "2   735488557           43     BRONX   03/29/2020     14:10:00          NaN   \n",
       "3   315962428           40     BRONX   03/29/2020     07:10:00   03/29/2020   \n",
       "4   165437868          114    QUEENS   03/27/2020     13:15:00   03/27/2020   \n",
       "\n",
       "  CMPLNT_TO_TM CRM_ATPT_CPTD_CD HADEVELOPT  HOUSING_PSA  JURISDICTION_CODE  \\\n",
       "0     06:53:00        COMPLETED        NaN          NaN                0.0   \n",
       "1     20:30:00        COMPLETED        NaN          NaN                0.0   \n",
       "2          NaN        COMPLETED        NaN          NaN                0.0   \n",
       "3     07:16:00        COMPLETED        NaN          NaN                0.0   \n",
       "4     14:00:00        COMPLETED        NaN          NaN                0.0   \n",
       "\n",
       "         JURIS_DESC  KY_CD   LAW_CAT_CD LOC_OF_OCCUR_DESC  \\\n",
       "0  N.Y. POLICE DEPT    341  MISDEMEANOR       OPPOSITE OF   \n",
       "1  N.Y. POLICE DEPT    104       FELONY       OPPOSITE OF   \n",
       "2  N.Y. POLICE DEPT    341  MISDEMEANOR            INSIDE   \n",
       "3  N.Y. POLICE DEPT    341  MISDEMEANOR            INSIDE   \n",
       "4  N.Y. POLICE DEPT    344  MISDEMEANOR            INSIDE   \n",
       "\n",
       "                      OFNS_DESC PARKS_NM               PATROL_BORO  PD_CD  \\\n",
       "0                 PETIT LARCENY      NaN   PATROL BORO BKLYN NORTH  321.0   \n",
       "1                          RAPE      NaN   PATROL BORO BKLYN NORTH  157.0   \n",
       "2                 PETIT LARCENY      NaN         PATROL BORO BRONX  333.0   \n",
       "3                 PETIT LARCENY      NaN         PATROL BORO BRONX  333.0   \n",
       "4  ASSAULT 3 & RELATED OFFENSES      NaN  PATROL BORO QUEENS NORTH  101.0   \n",
       "\n",
       "                          PD_DESC   PREM_TYP_DESC      RPT_DT STATION_NAME  \\\n",
       "0         LARCENY,PETIT FROM AUTO          STREET  03/31/2020          NaN   \n",
       "1                          RAPE 1          STREET  03/30/2020          NaN   \n",
       "2  LARCENY,PETIT FROM STORE-SHOPL      DRUG STORE  03/29/2020          NaN   \n",
       "3  LARCENY,PETIT FROM STORE-SHOPL  GROCERY/BODEGA  03/29/2020          NaN   \n",
       "4                       ASSAULT 3           OTHER  03/27/2020          NaN   \n",
       "\n",
       "  SUSP_AGE_GROUP SUSP_RACE SUSP_SEX  TRANSIT_DISTRICT VIC_AGE_GROUP  \\\n",
       "0            NaN       NaN      NaN               NaN         25-44   \n",
       "1          18-24   UNKNOWN        M               NaN           <18   \n",
       "2            NaN       NaN      NaN               NaN       UNKNOWN   \n",
       "3        UNKNOWN     BLACK        M               NaN         25-44   \n",
       "4            NaN       NaN      NaN               NaN         45-64   \n",
       "\n",
       "         VIC_RACE VIC_SEX  X_COORD_CD  Y_COORD_CD   Latitude  Longitude  \\\n",
       "0           BLACK       M     1018496      178657  40.656991 -73.876574   \n",
       "1         UNKNOWN       F     1003606      185050  40.674583 -73.930222   \n",
       "2         UNKNOWN       D     1019853      241853  40.830443 -73.871349   \n",
       "3  WHITE HISPANIC       F     1007236      237260  40.817878 -73.916957   \n",
       "4           BLACK       F     1002018      213258  40.752011 -73.935872   \n",
       "\n",
       "                                    Lat_Lon  \n",
       "0   (40.65699087900003, -73.87657444799999)  \n",
       "1   (40.67458330800008, -73.93022154099998)  \n",
       "2        (40.83044253800006, -73.871349147)  \n",
       "3  (40.817877907000025, -73.91695668199996)  \n",
       "4   (40.75201086000004, -73.93587196099996)  "
      ]
     },
     "execution_count": 3,
     "metadata": {},
     "output_type": "execute_result"
    }
   ],
   "source": [
    "# source: https://data.cityofnewyork.us/resource/5uac-w243.json\n",
    "df = pd.read_csv('NYC_Crime.csv')\n",
    "\n",
    "#get a look and make sure everything works\n",
    "df.head()"
   ]
  },
  {
   "cell_type": "markdown",
   "metadata": {},
   "source": [
    "### There's a lot of NULLDATA -- GULLMAN doesn't have time to waste! I need to clean up the data and figure out what we can use."
   ]
  },
  {
   "cell_type": "code",
   "execution_count": 4,
   "metadata": {},
   "outputs": [
    {
     "data": {
      "text/plain": [
       "<matplotlib.axes._subplots.AxesSubplot at 0x7efe674bcf28>"
      ]
     },
     "execution_count": 4,
     "metadata": {},
     "output_type": "execute_result"
    },
    {
     "data": {
      "image/png": "[encoded data removed]",
      "text/plain": [
       "<Figure size 720x504 with 1 Axes>"
      ]
     },
     "metadata": {
      "needs_background": "light"
     },
     "output_type": "display_data"
    }
   ],
   "source": [
    "plt.figure(figsize=(10,7))\n",
    "sns.heatmap(df.isnull(), cbar = False, cmap = 'viridis')"
   ]
  },
  {
   "cell_type": "markdown",
   "metadata": {},
   "source": [
    "### There's a lot of junk, so I'm going to remove most of the columns we don't need. But first I need a list to double-check against the CMAP."
   ]
  },
  {
   "cell_type": "code",
   "execution_count": 5,
   "metadata": {
    "collapsed": true,
    "jupyter": {
     "outputs_hidden": true
    }
   },
   "outputs": [
    {
     "data": {
      "text/plain": [
       "['CMPLNT_NUM',\n",
       " 'ADDR_PCT_CD',\n",
       " 'BORO_NM',\n",
       " 'CMPLNT_FR_DT',\n",
       " 'CMPLNT_FR_TM',\n",
       " 'CMPLNT_TO_DT',\n",
       " 'CMPLNT_TO_TM',\n",
       " 'CRM_ATPT_CPTD_CD',\n",
       " 'HADEVELOPT',\n",
       " 'HOUSING_PSA',\n",
       " 'JURISDICTION_CODE',\n",
       " 'JURIS_DESC',\n",
       " 'KY_CD',\n",
       " 'LAW_CAT_CD',\n",
       " 'LOC_OF_OCCUR_DESC',\n",
       " 'OFNS_DESC',\n",
       " 'PARKS_NM',\n",
       " 'PATROL_BORO',\n",
       " 'PD_CD',\n",
       " 'PD_DESC',\n",
       " 'PREM_TYP_DESC',\n",
       " 'RPT_DT',\n",
       " 'STATION_NAME',\n",
       " 'SUSP_AGE_GROUP',\n",
       " 'SUSP_RACE',\n",
       " 'SUSP_SEX',\n",
       " 'TRANSIT_DISTRICT',\n",
       " 'VIC_AGE_GROUP',\n",
       " 'VIC_RACE',\n",
       " 'VIC_SEX',\n",
       " 'X_COORD_CD',\n",
       " 'Y_COORD_CD',\n",
       " 'Latitude',\n",
       " 'Longitude',\n",
       " 'Lat_Lon']"
      ]
     },
     "execution_count": 5,
     "metadata": {},
     "output_type": "execute_result"
    }
   ],
   "source": [
    "list(df)"
   ]
  },
  {
   "cell_type": "markdown",
   "metadata": {},
   "source": [
    "### I've got the list and now I'm going to drop the junk data I don't need."
   ]
  },
  {
   "cell_type": "code",
   "execution_count": 6,
   "metadata": {},
   "outputs": [],
   "source": [
    "df = df.drop(['CMPLNT_FR_DT',\n",
    " 'CMPLNT_FR_TM',\n",
    " 'CMPLNT_TO_DT',\n",
    " 'CMPLNT_TO_TM',\n",
    " 'CRM_ATPT_CPTD_CD',\n",
    " 'HADEVELOPT',\n",
    " 'HOUSING_PSA',\n",
    " 'JURISDICTION_CODE',\n",
    " 'JURIS_DESC',\n",
    " 'KY_CD',\n",
    " 'LAW_CAT_CD',\n",
    " 'LOC_OF_OCCUR_DESC',\n",
    " 'PARKS_NM',\n",
    " 'PATROL_BORO',\n",
    " 'PD_CD',\n",
    " 'PD_DESC',\n",
    " 'RPT_DT',\n",
    " 'STATION_NAME',\n",
    " 'SUSP_AGE_GROUP',\n",
    " 'SUSP_RACE',\n",
    " 'SUSP_SEX',\n",
    " 'TRANSIT_DISTRICT',\n",
    " 'VIC_AGE_GROUP',\n",
    " 'VIC_RACE',\n",
    " 'VIC_SEX',\n",
    " 'X_COORD_CD',\n",
    " 'Y_COORD_CD'], 1)"
   ]
  },
  {
   "cell_type": "markdown",
   "metadata": {},
   "source": [
    "### Double check the information"
   ]
  },
  {
   "cell_type": "code",
   "execution_count": 7,
   "metadata": {},
   "outputs": [
    {
     "data": {
      "text/html": [
       "<div>\n",
       "<style scoped>\n",
       "    .dataframe tbody tr th:only-of-type {\n",
       "        vertical-align: middle;\n",
       "    }\n",
       "\n",
       "    .dataframe tbody tr th {\n",
       "        vertical-align: top;\n",
       "    }\n",
       "\n",
       "    .dataframe thead th {\n",
       "        text-align: right;\n",
       "    }\n",
       "</style>\n",
       "<table border=\"1\" class=\"dataframe\">\n",
       "  <thead>\n",
       "    <tr style=\"text-align: right;\">\n",
       "      <th></th>\n",
       "      <th>CMPLNT_NUM</th>\n",
       "      <th>ADDR_PCT_CD</th>\n",
       "      <th>BORO_NM</th>\n",
       "      <th>OFNS_DESC</th>\n",
       "      <th>PREM_TYP_DESC</th>\n",
       "      <th>Latitude</th>\n",
       "      <th>Longitude</th>\n",
       "      <th>Lat_Lon</th>\n",
       "    </tr>\n",
       "  </thead>\n",
       "  <tbody>\n",
       "    <tr>\n",
       "      <th>0</th>\n",
       "      <td>466502077</td>\n",
       "      <td>75</td>\n",
       "      <td>BROOKLYN</td>\n",
       "      <td>PETIT LARCENY</td>\n",
       "      <td>STREET</td>\n",
       "      <td>40.656991</td>\n",
       "      <td>-73.876574</td>\n",
       "      <td>(40.65699087900003, -73.87657444799999)</td>\n",
       "    </tr>\n",
       "    <tr>\n",
       "      <th>1</th>\n",
       "      <td>303191835</td>\n",
       "      <td>77</td>\n",
       "      <td>BROOKLYN</td>\n",
       "      <td>RAPE</td>\n",
       "      <td>STREET</td>\n",
       "      <td>40.674583</td>\n",
       "      <td>-73.930222</td>\n",
       "      <td>(40.67458330800008, -73.93022154099998)</td>\n",
       "    </tr>\n",
       "    <tr>\n",
       "      <th>2</th>\n",
       "      <td>735488557</td>\n",
       "      <td>43</td>\n",
       "      <td>BRONX</td>\n",
       "      <td>PETIT LARCENY</td>\n",
       "      <td>DRUG STORE</td>\n",
       "      <td>40.830443</td>\n",
       "      <td>-73.871349</td>\n",
       "      <td>(40.83044253800006, -73.871349147)</td>\n",
       "    </tr>\n",
       "    <tr>\n",
       "      <th>3</th>\n",
       "      <td>315962428</td>\n",
       "      <td>40</td>\n",
       "      <td>BRONX</td>\n",
       "      <td>PETIT LARCENY</td>\n",
       "      <td>GROCERY/BODEGA</td>\n",
       "      <td>40.817878</td>\n",
       "      <td>-73.916957</td>\n",
       "      <td>(40.817877907000025, -73.91695668199996)</td>\n",
       "    </tr>\n",
       "    <tr>\n",
       "      <th>4</th>\n",
       "      <td>165437868</td>\n",
       "      <td>114</td>\n",
       "      <td>QUEENS</td>\n",
       "      <td>ASSAULT 3 &amp; RELATED OFFENSES</td>\n",
       "      <td>OTHER</td>\n",
       "      <td>40.752011</td>\n",
       "      <td>-73.935872</td>\n",
       "      <td>(40.75201086000004, -73.93587196099996)</td>\n",
       "    </tr>\n",
       "  </tbody>\n",
       "</table>\n",
       "</div>"
      ],
      "text/plain": [
       "   CMPLNT_NUM  ADDR_PCT_CD   BORO_NM                     OFNS_DESC  \\\n",
       "0   466502077           75  BROOKLYN                 PETIT LARCENY   \n",
       "1   303191835           77  BROOKLYN                          RAPE   \n",
       "2   735488557           43     BRONX                 PETIT LARCENY   \n",
       "3   315962428           40     BRONX                 PETIT LARCENY   \n",
       "4   165437868          114    QUEENS  ASSAULT 3 & RELATED OFFENSES   \n",
       "\n",
       "    PREM_TYP_DESC   Latitude  Longitude  \\\n",
       "0          STREET  40.656991 -73.876574   \n",
       "1          STREET  40.674583 -73.930222   \n",
       "2      DRUG STORE  40.830443 -73.871349   \n",
       "3  GROCERY/BODEGA  40.817878 -73.916957   \n",
       "4           OTHER  40.752011 -73.935872   \n",
       "\n",
       "                                    Lat_Lon  \n",
       "0   (40.65699087900003, -73.87657444799999)  \n",
       "1   (40.67458330800008, -73.93022154099998)  \n",
       "2        (40.83044253800006, -73.871349147)  \n",
       "3  (40.817877907000025, -73.91695668199996)  \n",
       "4   (40.75201086000004, -73.93587196099996)  "
      ]
     },
     "execution_count": 7,
     "metadata": {},
     "output_type": "execute_result"
    }
   ],
   "source": [
    "df.head()"
   ]
  },
  {
   "cell_type": "markdown",
   "metadata": {},
   "source": [
    "### Looks good. Just going to pair down the information in a format that I can easily consume by reorganizing the information and reorganizing the information."
   ]
  },
  {
   "cell_type": "code",
   "execution_count": 8,
   "metadata": {},
   "outputs": [
    {
     "data": {
      "text/html": [
       "<div>\n",
       "<style scoped>\n",
       "    .dataframe tbody tr th:only-of-type {\n",
       "        vertical-align: middle;\n",
       "    }\n",
       "\n",
       "    .dataframe tbody tr th {\n",
       "        vertical-align: top;\n",
       "    }\n",
       "\n",
       "    .dataframe thead th {\n",
       "        text-align: right;\n",
       "    }\n",
       "</style>\n",
       "<table border=\"1\" class=\"dataframe\">\n",
       "  <thead>\n",
       "    <tr style=\"text-align: right;\">\n",
       "      <th></th>\n",
       "      <th>CMPLNT_NUM</th>\n",
       "      <th>Precinct</th>\n",
       "      <th>Borough</th>\n",
       "      <th>Offense</th>\n",
       "      <th>Location</th>\n",
       "      <th>Latitude</th>\n",
       "      <th>Longitude</th>\n",
       "      <th>Lat_Lon</th>\n",
       "    </tr>\n",
       "  </thead>\n",
       "  <tbody>\n",
       "    <tr>\n",
       "      <th>0</th>\n",
       "      <td>466502077</td>\n",
       "      <td>75</td>\n",
       "      <td>BROOKLYN</td>\n",
       "      <td>PETIT LARCENY</td>\n",
       "      <td>STREET</td>\n",
       "      <td>40.656991</td>\n",
       "      <td>-73.876574</td>\n",
       "      <td>(40.65699087900003, -73.87657444799999)</td>\n",
       "    </tr>\n",
       "    <tr>\n",
       "      <th>1</th>\n",
       "      <td>303191835</td>\n",
       "      <td>77</td>\n",
       "      <td>BROOKLYN</td>\n",
       "      <td>RAPE</td>\n",
       "      <td>STREET</td>\n",
       "      <td>40.674583</td>\n",
       "      <td>-73.930222</td>\n",
       "      <td>(40.67458330800008, -73.93022154099998)</td>\n",
       "    </tr>\n",
       "    <tr>\n",
       "      <th>2</th>\n",
       "      <td>735488557</td>\n",
       "      <td>43</td>\n",
       "      <td>BRONX</td>\n",
       "      <td>PETIT LARCENY</td>\n",
       "      <td>DRUG STORE</td>\n",
       "      <td>40.830443</td>\n",
       "      <td>-73.871349</td>\n",
       "      <td>(40.83044253800006, -73.871349147)</td>\n",
       "    </tr>\n",
       "    <tr>\n",
       "      <th>3</th>\n",
       "      <td>315962428</td>\n",
       "      <td>40</td>\n",
       "      <td>BRONX</td>\n",
       "      <td>PETIT LARCENY</td>\n",
       "      <td>GROCERY/BODEGA</td>\n",
       "      <td>40.817878</td>\n",
       "      <td>-73.916957</td>\n",
       "      <td>(40.817877907000025, -73.91695668199996)</td>\n",
       "    </tr>\n",
       "    <tr>\n",
       "      <th>4</th>\n",
       "      <td>165437868</td>\n",
       "      <td>114</td>\n",
       "      <td>QUEENS</td>\n",
       "      <td>ASSAULT 3 &amp; RELATED OFFENSES</td>\n",
       "      <td>OTHER</td>\n",
       "      <td>40.752011</td>\n",
       "      <td>-73.935872</td>\n",
       "      <td>(40.75201086000004, -73.93587196099996)</td>\n",
       "    </tr>\n",
       "  </tbody>\n",
       "</table>\n",
       "</div>"
      ],
      "text/plain": [
       "   CMPLNT_NUM  Precinct   Borough                       Offense  \\\n",
       "0   466502077        75  BROOKLYN                 PETIT LARCENY   \n",
       "1   303191835        77  BROOKLYN                          RAPE   \n",
       "2   735488557        43     BRONX                 PETIT LARCENY   \n",
       "3   315962428        40     BRONX                 PETIT LARCENY   \n",
       "4   165437868       114    QUEENS  ASSAULT 3 & RELATED OFFENSES   \n",
       "\n",
       "         Location   Latitude  Longitude  \\\n",
       "0          STREET  40.656991 -73.876574   \n",
       "1          STREET  40.674583 -73.930222   \n",
       "2      DRUG STORE  40.830443 -73.871349   \n",
       "3  GROCERY/BODEGA  40.817878 -73.916957   \n",
       "4           OTHER  40.752011 -73.935872   \n",
       "\n",
       "                                    Lat_Lon  \n",
       "0   (40.65699087900003, -73.87657444799999)  \n",
       "1   (40.67458330800008, -73.93022154099998)  \n",
       "2        (40.83044253800006, -73.871349147)  \n",
       "3  (40.817877907000025, -73.91695668199996)  \n",
       "4   (40.75201086000004, -73.93587196099996)  "
      ]
     },
     "execution_count": 8,
     "metadata": {},
     "output_type": "execute_result"
    }
   ],
   "source": [
    "df.rename(columns={'ADDR_PCT_CD': 'Precinct', \n",
    "                   'BORO_NM': 'Borough', \n",
    "                   'OFNS_DESC': 'Offense',\n",
    "                   'PREM_TYP_DESC': 'Location'}, inplace=True)\n",
    "df.head()"
   ]
  },
  {
   "cell_type": "code",
   "execution_count": 9,
   "metadata": {},
   "outputs": [
    {
     "data": {
      "text/html": [
       "<div>\n",
       "<style scoped>\n",
       "    .dataframe tbody tr th:only-of-type {\n",
       "        vertical-align: middle;\n",
       "    }\n",
       "\n",
       "    .dataframe tbody tr th {\n",
       "        vertical-align: top;\n",
       "    }\n",
       "\n",
       "    .dataframe thead th {\n",
       "        text-align: right;\n",
       "    }\n",
       "</style>\n",
       "<table border=\"1\" class=\"dataframe\">\n",
       "  <thead>\n",
       "    <tr style=\"text-align: right;\">\n",
       "      <th></th>\n",
       "      <th>Borough</th>\n",
       "      <th>Precinct</th>\n",
       "      <th>Location</th>\n",
       "      <th>Offense</th>\n",
       "      <th>Latitude</th>\n",
       "      <th>Longitude</th>\n",
       "      <th>Lat_Lon</th>\n",
       "    </tr>\n",
       "  </thead>\n",
       "  <tbody>\n",
       "    <tr>\n",
       "      <th>0</th>\n",
       "      <td>BROOKLYN</td>\n",
       "      <td>75</td>\n",
       "      <td>STREET</td>\n",
       "      <td>PETIT LARCENY</td>\n",
       "      <td>40.656991</td>\n",
       "      <td>-73.876574</td>\n",
       "      <td>(40.65699087900003, -73.87657444799999)</td>\n",
       "    </tr>\n",
       "    <tr>\n",
       "      <th>1</th>\n",
       "      <td>BROOKLYN</td>\n",
       "      <td>77</td>\n",
       "      <td>STREET</td>\n",
       "      <td>RAPE</td>\n",
       "      <td>40.674583</td>\n",
       "      <td>-73.930222</td>\n",
       "      <td>(40.67458330800008, -73.93022154099998)</td>\n",
       "    </tr>\n",
       "    <tr>\n",
       "      <th>2</th>\n",
       "      <td>BRONX</td>\n",
       "      <td>43</td>\n",
       "      <td>DRUG STORE</td>\n",
       "      <td>PETIT LARCENY</td>\n",
       "      <td>40.830443</td>\n",
       "      <td>-73.871349</td>\n",
       "      <td>(40.83044253800006, -73.871349147)</td>\n",
       "    </tr>\n",
       "    <tr>\n",
       "      <th>3</th>\n",
       "      <td>BRONX</td>\n",
       "      <td>40</td>\n",
       "      <td>GROCERY/BODEGA</td>\n",
       "      <td>PETIT LARCENY</td>\n",
       "      <td>40.817878</td>\n",
       "      <td>-73.916957</td>\n",
       "      <td>(40.817877907000025, -73.91695668199996)</td>\n",
       "    </tr>\n",
       "    <tr>\n",
       "      <th>4</th>\n",
       "      <td>QUEENS</td>\n",
       "      <td>114</td>\n",
       "      <td>OTHER</td>\n",
       "      <td>ASSAULT 3 &amp; RELATED OFFENSES</td>\n",
       "      <td>40.752011</td>\n",
       "      <td>-73.935872</td>\n",
       "      <td>(40.75201086000004, -73.93587196099996)</td>\n",
       "    </tr>\n",
       "  </tbody>\n",
       "</table>\n",
       "</div>"
      ],
      "text/plain": [
       "    Borough  Precinct        Location                       Offense  \\\n",
       "0  BROOKLYN        75          STREET                 PETIT LARCENY   \n",
       "1  BROOKLYN        77          STREET                          RAPE   \n",
       "2     BRONX        43      DRUG STORE                 PETIT LARCENY   \n",
       "3     BRONX        40  GROCERY/BODEGA                 PETIT LARCENY   \n",
       "4    QUEENS       114           OTHER  ASSAULT 3 & RELATED OFFENSES   \n",
       "\n",
       "    Latitude  Longitude                                   Lat_Lon  \n",
       "0  40.656991 -73.876574   (40.65699087900003, -73.87657444799999)  \n",
       "1  40.674583 -73.930222   (40.67458330800008, -73.93022154099998)  \n",
       "2  40.830443 -73.871349        (40.83044253800006, -73.871349147)  \n",
       "3  40.817878 -73.916957  (40.817877907000025, -73.91695668199996)  \n",
       "4  40.752011 -73.935872   (40.75201086000004, -73.93587196099996)  "
      ]
     },
     "execution_count": 9,
     "metadata": {},
     "output_type": "execute_result"
    }
   ],
   "source": [
    "#Better! Just need to reorder the columns!\n",
    "df = df[['Borough','Precinct','Location','Offense','Latitude','Longitude','Lat_Lon']]\n",
    "df.head()"
   ]
  },
  {
   "cell_type": "markdown",
   "metadata": {},
   "source": [
    "### Now that I have the data, it's time to take a look at the areas with the highest crime rate. Since I don't want to wander aimlessly, I'm going to chart crime data by Borough, Precinct, Type, and Location in order to narrow down the top place to fight crime."
   ]
  },
  {
   "cell_type": "code",
   "execution_count": 10,
   "metadata": {},
   "outputs": [
    {
     "data": {
      "text/plain": [
       "<matplotlib.axes._subplots.AxesSubplot at 0x7efe671d5278>"
      ]
     },
     "execution_count": 10,
     "metadata": {},
     "output_type": "execute_result"
    },
    {
     "data": {
      "image/png": "[encoded data removed]",
      "text/plain": [
       "<Figure size 1080x720 with 1 Axes>"
      ]
     },
     "metadata": {
      "needs_background": "light"
     },
     "output_type": "display_data"
    }
   ],
   "source": [
    "%matplotlib inline\n",
    "import matplotlib.pyplot as plt\n",
    "\n",
    "groups = df.groupby(\"Borough\")[\"Borough\"].count()\n",
    "groups = groups.sort_values(ascending=False)\n",
    "plt.figure(figsize=(15,10))\n",
    "groups.plot(kind='bar', title=\"Crimes by Borough\")"
   ]
  },
  {
   "cell_type": "code",
   "execution_count": 11,
   "metadata": {},
   "outputs": [
    {
     "data": {
      "text/plain": [
       "<matplotlib.axes._subplots.AxesSubplot at 0x7efe67153a20>"
      ]
     },
     "execution_count": 11,
     "metadata": {},
     "output_type": "execute_result"
    },
    {
     "data": {
      "image/png": "[encoded data removed]",
      "text/plain": [
       "<Figure size 1080x720 with 1 Axes>"
      ]
     },
     "metadata": {
      "needs_background": "light"
     },
     "output_type": "display_data"
    }
   ],
   "source": [
    "#Theres a LOT of crime in NYC, so I'll narrow it down to the TOP 10 criminal-offenses\n",
    "%matplotlib inline\n",
    "import matplotlib.pyplot as plt\n",
    "\n",
    "groups = df.groupby(\"Offense\")[\"Offense\"].count()\n",
    "groups = groups.sort_values(ascending=False)[:10]\n",
    "plt.figure(figsize=(15,10))\n",
    "groups.plot(kind='bar', title=\"Crimes by Offense\")"
   ]
  },
  {
   "cell_type": "code",
   "execution_count": 12,
   "metadata": {},
   "outputs": [
    {
     "data": {
      "text/plain": [
       "<matplotlib.axes._subplots.AxesSubplot at 0x7efe670cebe0>"
      ]
     },
     "execution_count": 12,
     "metadata": {},
     "output_type": "execute_result"
    },
    {
     "data": {
      "image/png": "[encoded data removed]",
      "text/plain": [
       "<Figure size 1080x720 with 1 Axes>"
      ]
     },
     "metadata": {
      "needs_background": "light"
     },
     "output_type": "display_data"
    }
   ],
   "source": [
    "%matplotlib inline\n",
    "import matplotlib.pyplot as plt\n",
    "\n",
    "groups = df.groupby(\"Precinct\")[\"Precinct\"].count()\n",
    "groups = groups.sort_values(ascending=False)[:10]\n",
    "plt.figure(figsize=(15,10))\n",
    "groups.plot(kind='bar', title=\"Crimes by Precinct\")"
   ]
  },
  {
   "cell_type": "code",
   "execution_count": 13,
   "metadata": {},
   "outputs": [
    {
     "data": {
      "text/plain": [
       "<matplotlib.axes._subplots.AxesSubplot at 0x7efe670505f8>"
      ]
     },
     "execution_count": 13,
     "metadata": {},
     "output_type": "execute_result"
    },
    {
     "data": {
      "image/png": "[encoded data removed]",
      "text/plain": [
       "<Figure size 1080x720 with 1 Axes>"
      ]
     },
     "metadata": {
      "needs_background": "light"
     },
     "output_type": "display_data"
    }
   ],
   "source": [
    "%matplotlib inline\n",
    "import matplotlib.pyplot as plt\n",
    "\n",
    "groups = df.groupby(\"Location\")[\"Location\"].count()\n",
    "groups = groups.sort_values(ascending=False)[:10]\n",
    "plt.figure(figsize=(15,10))\n",
    "groups.plot(kind='bar', title=\"Crimes by Location\")"
   ]
  },
  {
   "cell_type": "markdown",
   "metadata": {},
   "source": [
    "## Analysis\n",
    "### Based on all the information, the best place for GULLMAN to fight crime is in __Brooklyn__ in the __75th Precinct__ on __the STREET__ to stop __PETTY LARCENY__. "
   ]
  },
  {
   "cell_type": "markdown",
   "metadata": {},
   "source": [
    "### Now, all I need to do is figure out where this place is on a map! I need to figure out where the 75th Precinct is located _(thanks GOOGLE)_ and convert it to LAT/LONG."
   ]
  },
  {
   "cell_type": "code",
   "execution_count": 14,
   "metadata": {},
   "outputs": [
    {
     "name": "stdout",
     "output_type": "stream",
     "text": [
      "The geograpical coordinate of the 75th Precinct are 40.67117035, -73.88145873279599.\n"
     ]
    }
   ],
   "source": [
    "address = '1000 Sutter Avenue, Brooklyn, NY, 11208-3553'\n",
    "\n",
    "geolocator = Nominatim(user_agent=\"GULLMAN\")\n",
    "location = geolocator.geocode(address)\n",
    "latitude = location.latitude\n",
    "longitude = location.longitude\n",
    "print('The geograpical coordinate of the 75th Precinct are {}, {}.'.format(latitude, longitude))"
   ]
  },
  {
   "cell_type": "markdown",
   "metadata": {},
   "source": [
    "### Now that I've got the LAT/LONG, I can put it on a map with a general area circled that GULLMAN can patrol."
   ]
  },
  {
   "cell_type": "code",
   "execution_count": 15,
   "metadata": {},
   "outputs": [
    {
     "data": {
      "text/html": [
       "<div style=\"width:100%;\"><div style=\"position:relative;width:100%;height:0;padding-bottom:60%;\"><span style=\"color:#565656\">Make this Notebook Trusted to load map: File -> Trust Notebook</span><iframe src=\"about:blank\" style=\"position:absolute;width:100%;height:100%;left:0;top:0;border:none !important;\" data-html=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 onload=\"this.contentDocument.open();this.contentDocument.write(atob(this.getAttribute('data-html')));this.contentDocument.close();\" allowfullscreen webkitallowfullscreen mozallowfullscreen></iframe></div></div>"
      ],
      "text/plain": [
       "<folium.folium.Map at 0x7efe66fc94a8>"
      ]
     },
     "execution_count": 15,
     "metadata": {},
     "output_type": "execute_result"
    }
   ],
   "source": [
    "crime_map = folium.Map(location=[latitude, longitude], zoom_start=12, tiles=\"CartoDB dark_matter\")\n",
    "\n",
    "folium.CircleMarker(\n",
    "    location = [latitude, longitude], \n",
    "    popup= \"BAD GUY CENTRAL!\", \n",
    "    color=\"red\",\n",
    "    radius= 50,\n",
    "    fill = True).add_to(crime_map)\n",
    "crime_map"
   ]
  },
  {
   "cell_type": "markdown",
   "metadata": {},
   "source": [
    "## Discussion\n",
    "I have concluded that fighting __Petty Larceny on the Streets of Brooklyn’s 75th Precinct__ is the best place for GULLMAN to start his vigilante crime patrols and make a name for himself. \n",
    "\n",
    "or\n",
    "\n",
    "Or GULLMAN can revert to regular old Ronnie Gulliver, so that he can continue running a multi-million dollar portfolio and driving his expensive car."
   ]
  },
  {
   "cell_type": "markdown",
   "metadata": {},
   "source": [
    "## Conclusion\n",
    "Only Ronnie Gulliver knows what Ronnie Gulliver wants. While the information was presented in a clear and concise manner, there are several variables that are left to examine. Given the initial request, I think this product satisfies all requirements, while leaving room to explore other options. If anything, the information shows me where I can improve as a data scientist. And I am ready for the challenge."
   ]
  }
 ],
 "metadata": {
  "kernelspec": {
   "display_name": "Python",
   "language": "python",
   "name": "conda-env-python-py"
  },
  "language_info": {
   "codemirror_mode": {
    "name": "ipython",
    "version": 3
   },
   "file_extension": ".py",
   "mimetype": "text/x-python",
   "name": "python",
   "nbconvert_exporter": "python",
   "pygments_lexer": "ipython3",
   "version": "3.6.10"
  }
 },
 "nbformat": 4,
 "nbformat_minor": 4
}
